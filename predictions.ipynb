{
 "cells": [
  {
   "cell_type": "code",
   "execution_count": 255,
   "metadata": {
    "collapsed": false
   },
   "outputs": [],
   "source": [
    "import numpy as np\n",
    "import pandas as pd\n",
    "from collections import Counter\n",
    "\n",
    "import sklearn as sk\n",
    "from sklearn.decomposition import PCA\n",
    "from sklearn.ensemble import RandomForestClassifier, AdaBoostClassifier\n",
    "from sklearn.linear_model import LogisticRegression\n",
    "from sklearn.neighbors import KNeighborsClassifier\n",
    "from sklearn.svm import SVC, LinearSVC\n",
    "from sklearn.base import TransformerMixin\n",
    "from sklearn.cross_validation import train_test_split\n",
    "from sklearn.feature_extraction import DictVectorizer\n",
    "from sklearn.pipeline import Pipeline\n",
    "from sklearn.metrics import accuracy_score, f1_score, precision_score, recall_score"
   ]
  },
  {
   "cell_type": "markdown",
   "metadata": {},
   "source": [
    "# Preprocessing"
   ]
  },
  {
   "cell_type": "code",
   "execution_count": 80,
   "metadata": {
    "collapsed": false
   },
   "outputs": [],
   "source": [
    "# Load Data\n",
    "cf = pd.read_csv('./data/county_facts.csv')\n",
    "cfd = pd.read_csv('./data/county_facts_dictionary.csv')\n",
    "#pr = pd.read_csv('./data/primary_results.csv')\n",
    "pr = pd.read_csv('./data/scraped_primary_results.csv')"
   ]
  },
  {
   "cell_type": "code",
   "execution_count": 52,
   "metadata": {
    "collapsed": false
   },
   "outputs": [],
   "source": [
    "# Feature/Label vector builders\n",
    "def get_x(cf, fips):\n",
    "    x = []\n",
    "    for countyid in fips:\n",
    "        x.append(cf[cf['fips'] == countyid].iloc[0].to_dict())\n",
    "    return x\n",
    "\n",
    "def get_y(pr, x_array, party):\n",
    "    new_x = []\n",
    "    y = []\n",
    "    for county in x_array:\n",
    "        results = pr[(pr['fips'] == county['fips']) & (pr['party'] == party)]\n",
    "        if len(results) > 0:\n",
    "            y.append(results['candidate'].loc[results['votes'].argmax()])\n",
    "            new_x.append(county)\n",
    "    return pd.Series(y), new_x\n",
    "\n",
    "# Metrics and helpers\n",
    "def get_winner(predictions):\n",
    "    return pd.Series(predictions).max()\n",
    "\n",
    "def get_scaled_winner(predictions, x):\n",
    "    count = Counter()\n",
    "    for (prediction, data) in zip(predictions, x):\n",
    "        population = data['PST045214']\n",
    "        count[prediction] += population\n",
    "    return count\n",
    "\n",
    "def report_metrics(y_true, y_pred):\n",
    "    print \"Accuracy: \" + str(accuracy_score(y_true, y_pred))\n",
    "    '''\n",
    "    print \"F1: \" + str(f1_score(y_true, y_pred, pos_label=pd.Series(y_true).max()))\n",
    "    print \"Precision: \" + str(precision_score(y_true, y_pred, pos_label=pd.Series(y_true).max()))\n",
    "    print \"Recall: \" + str(recall_score(y_true, y_pred, pos_label=pd.Series(y_true).max()))\n",
    "    '''"
   ]
  },
  {
   "cell_type": "markdown",
   "metadata": {},
   "source": [
    "# ML Pipeline"
   ]
  },
  {
   "cell_type": "code",
   "execution_count": 278,
   "metadata": {
    "collapsed": true
   },
   "outputs": [],
   "source": [
    "class DensifyTransformer(TransformerMixin):\n",
    "    def transform(self, X, **transform_params):\n",
    "        tX = map(lambda x: x.toarray()[0], X)\n",
    "        return tX\n",
    "    \n",
    "    def fit(self, X, y=None, **fit_params):\n",
    "        return self\n",
    "\n",
    "def get_pipeline():\n",
    "    return Pipeline([\n",
    "        ('vectorize', DictVectorizer()),\n",
    "        #('densify', DensifyTransformer()),\n",
    "        #('PCA', PCA(n_components=25)),\n",
    "        #('svm', SVC())\n",
    "        #('linear_svm', LinearSVC())\n",
    "        #('kneighbors', KNeighborsClassifier(100))\n",
    "        ('rf', RandomForestClassifier(n_estimators=1000))\n",
    "        #('ab', AdaBoostClassifier(n_estimators=250))\n",
    "        #('regression', LogisticRegression())\n",
    "    ])"
   ]
  },
  {
   "cell_type": "code",
   "execution_count": 296,
   "metadata": {
    "collapsed": false
   },
   "outputs": [],
   "source": [
    "x = get_x(cf, cf[cf['state_abbreviation'] != 'OK']['fips'].unique())\n",
    "y, x = get_y(pr, x, \"Republican\")"
   ]
  },
  {
   "cell_type": "code",
   "execution_count": 297,
   "metadata": {
    "collapsed": false
   },
   "outputs": [
    {
     "name": "stdout",
     "output_type": "stream",
     "text": [
      "Counter({'Donald Trump': 18547823, 'Ted Cruz': 7683806, 'Marco Rubio': 13170})\n",
      "Accuracy: 0.790983606557\n",
      "None\n"
     ]
    }
   ],
   "source": [
    "x_train, x_test, y_train, y_test = train_test_split(x, y, test_size=0.33)\n",
    "pipeline = get_pipeline()\n",
    "pipeline.fit(x_train, y_train)\n",
    "y_pred = pipeline.predict(x_test)\n",
    "\n",
    "print get_scaled_winner(y_pred,x)\n",
    "print report_metrics(y_test, y_pred)"
   ]
  },
  {
   "cell_type": "markdown",
   "metadata": {},
   "source": [
    "# Baseline Comparisons\n",
    "\n",
    "## Random Vector"
   ]
  },
  {
   "cell_type": "code",
   "execution_count": 288,
   "metadata": {
    "collapsed": false
   },
   "outputs": [
    {
     "name": "stdout",
     "output_type": "stream",
     "text": [
      "Accuracy: 0.567901234568\n"
     ]
    }
   ],
   "source": [
    "def get_random_x(dimensions, length):\n",
    "    x = []\n",
    "    for i in range(length):\n",
    "        rand = np.random.rand(1, dimensions)[0]\n",
    "        feature_dict = {}\n",
    "        for j in range(dimensions):\n",
    "            feature_dict[j] = rand[j]\n",
    "        x.append(feature_dict)\n",
    "    return pd.Series(x)\n",
    "\n",
    "randx_train = get_random_x(len(x_train[0]), len(x_train))\n",
    "randx_test = get_random_x(len(x_test[0]), len(x_test))\n",
    "\n",
    "pipe = get_pipeline()\n",
    "pipe.fit(randx_train, y_train)\n",
    "y_pred = pipe.predict(randx_test)\n",
    "\n",
    "report_metrics(y_test, y_pred)"
   ]
  },
  {
   "cell_type": "markdown",
   "metadata": {},
   "source": [
    "## Predicting Mode"
   ]
  },
  {
   "cell_type": "code",
   "execution_count": 287,
   "metadata": {
    "collapsed": false
   },
   "outputs": [
    {
     "name": "stdout",
     "output_type": "stream",
     "text": [
      "Donald Trump\n",
      "Accuracy: 0.592592592593\n"
     ]
    }
   ],
   "source": [
    "mode = y_train.max()\n",
    "mode = get_scaled_winner(y_train, x_train).most_common(1)[0][0]\n",
    "print mode\n",
    "y_pred = [mode for i in range(len(x_test))]\n",
    "\n",
    "report_metrics(y_test, y_pred)"
   ]
  },
  {
   "cell_type": "markdown",
   "metadata": {},
   "source": [
    "# State Level Predictions"
   ]
  },
  {
   "cell_type": "code",
   "execution_count": 108,
   "metadata": {
    "collapsed": false
   },
   "outputs": [],
   "source": [
    "def get_state_winner(pipeline, state, cf):\n",
    "    statex = get_x(cf, cf[cf['state_abbreviation'] == state]['fips'])\n",
    "    state_pred = pipe.predict(statex)\n",
    "    #return get_winner(state_pred), state_pred\n",
    "    return get_scaled_winner(state_pred, statex)"
   ]
  },
  {
   "cell_type": "code",
   "execution_count": 253,
   "metadata": {
    "collapsed": false
   },
   "outputs": [
    {
     "data": {
      "text/plain": [
       "Counter({'Donald Trump': 5067636, 'Ted Cruz': 389537})"
      ]
     },
     "execution_count": 253,
     "metadata": {},
     "output_type": "execute_result"
    }
   ],
   "source": [
    "pipe = get_pipeline()\n",
    "pipe.fit(x, y)\n",
    "get_state_winner(pipe, 'MN', cf)"
   ]
  }
 ],
 "metadata": {
  "kernelspec": {
   "display_name": "Python 2",
   "language": "python",
   "name": "python2"
  },
  "language_info": {
   "codemirror_mode": {
    "name": "ipython",
    "version": 2
   },
   "file_extension": ".py",
   "mimetype": "text/x-python",
   "name": "python",
   "nbconvert_exporter": "python",
   "pygments_lexer": "ipython2",
   "version": "2.7.6"
  }
 },
 "nbformat": 4,
 "nbformat_minor": 0
}
