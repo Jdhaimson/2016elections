{
 "cells": [
  {
   "cell_type": "code",
   "execution_count": 1,
   "metadata": {
    "collapsed": true
   },
   "outputs": [],
   "source": [
    "import requests\n",
    "import pandas as pd\n",
    "from bs4 import BeautifulSoup"
   ]
  },
  {
   "cell_type": "code",
   "execution_count": 5,
   "metadata": {
    "collapsed": false
   },
   "outputs": [],
   "source": [
    "# Load Data\n",
    "cf = pd.read_csv('./data/county_facts.csv')\n",
    "cfd = pd.read_csv('./data/county_facts_dictionary.csv')\n",
    "#pr = pd.read_csv('./data/primary_results.csv')\n",
    "pr = pd.read_csv('./data/scraped_primary_results4.csv')"
   ]
  },
  {
   "cell_type": "code",
   "execution_count": 6,
   "metadata": {
    "collapsed": false
   },
   "outputs": [],
   "source": [
    "lname2full = {}\n",
    "for name in pr['candidate'].unique():\n",
    "    spl = name.split(' ')\n",
    "    lname2full[spl[1]] = name"
   ]
  },
  {
   "cell_type": "code",
   "execution_count": 4,
   "metadata": {
    "collapsed": false
   },
   "outputs": [],
   "source": [
    "#import traceback\n",
    "def scrape_primary_results((state, state_abbreviation, party, html_string)):\n",
    "    soup = BeautifulSoup(html_string)\n",
    "    rows = []\n",
    "    counties = soup.find_all(\"div\", { \"class\" : \"race-results--county\" })\n",
    "    for county in counties:\n",
    "        try:\n",
    "            county_name = county.find(\"h2\", { \"class\" : \"section-heading\" }).text + \" County\"\n",
    "            fips = cf[(cf['area_name'] == county_name)]['fips'].iloc[0]\n",
    "            candidates = county.find_all(\"div\", { \"class\" : \"table__row\" })[1:]\n",
    "            for candidate in candidates:\n",
    "                candidate_lname = candidate.find(\"span\", { \"class\" : \"candidate-name__last\" }).text\n",
    "                candidate_name = lname2full[candidate_lname]\n",
    "                candidate_percent = float(candidate.find(\"div\", { \"class\" : \"percent-bar__percent\" }).text[:-1])/100\n",
    "                candidate_votes = int(candidate.find(\"span\", { \"class\" : \"candidate-votes\" }).text)\n",
    "                rows.append([state, state_abbreviation, county_name, fips, party, candidate_name, candidate_votes, candidate_percent])\n",
    "        except Exception as e:\n",
    "            if type(e) != AttributeError:\n",
    "                pass\n",
    "                #print e\n",
    "                #traceback.print_exc()\n",
    "                \n",
    "    columns = [\"state\", \"state_abbreviation\", \"county\", \"fips\", \"party\", \"candidate\", \"votes\", \"fraction_votes\"]\n",
    "    if len(rows) == 0:\n",
    "        print \"Bad Data for: \" + state + \" \" + party\n",
    "        return None\n",
    "    else:\n",
    "        return pd.DataFrame(rows, columns=columns)"
   ]
  },
  {
   "cell_type": "code",
   "execution_count": 6,
   "metadata": {
    "collapsed": false
   },
   "outputs": [
    {
     "name": "stdout",
     "output_type": "stream",
     "text": [
      "Hawaii\n",
      "Idaho\n",
      "Michigan\n"
     ]
    },
    {
     "name": "stderr",
     "output_type": "stream",
     "text": [
      "/usr/local/lib/python2.7/dist-packages/pandas/core/ops.py:562: UnicodeWarning: Unicode equal comparison failed to convert both arguments to Unicode - interpreting them as being unequal\n",
      "  result = lib.scalar_compare(x, y, op)\n"
     ]
    }
   ],
   "source": [
    "with open('./automation/scraped_data.txt', 'r') as f:\n",
    "    text = f.readline()\n",
    "    my_data = None\n",
    "    while text != '':\n",
    "        scrape = eval(text)\n",
    "        print scrape[0]\n",
    "        \n",
    "        results = scrape_primary_results(scrape)\n",
    "        if results is not None:\n",
    "            if my_data is None:\n",
    "                my_data = results\n",
    "            else:\n",
    "                my_data = my_data.append(results)\n",
    "    \n",
    "        text = f.readline()"
   ]
  },
  {
   "cell_type": "code",
   "execution_count": 7,
   "metadata": {
    "collapsed": false
   },
   "outputs": [],
   "source": [
    "my_data.to_csv('./data/scraped_primary_results3.csv')"
   ]
  }
 ],
 "metadata": {
  "kernelspec": {
   "display_name": "Python 2",
   "language": "python",
   "name": "python2"
  },
  "language_info": {
   "codemirror_mode": {
    "name": "ipython",
    "version": 2
   },
   "file_extension": ".py",
   "mimetype": "text/x-python",
   "name": "python",
   "nbconvert_exporter": "python",
   "pygments_lexer": "ipython2",
   "version": "2.7.6"
  }
 },
 "nbformat": 4,
 "nbformat_minor": 0
}
